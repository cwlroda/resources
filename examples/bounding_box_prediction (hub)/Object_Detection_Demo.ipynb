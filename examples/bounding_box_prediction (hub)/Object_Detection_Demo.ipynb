{
  "nbformat": 4,
  "nbformat_minor": 0,
  "metadata": {
    "colab": {
      "name": "Object_Detection_Demo.ipynb",
      "provenance": []
    },
    "kernelspec": {
      "name": "python3",
      "display_name": "Python 3"
    },
    "language_info": {
      "name": "python"
    }
  },
  "cells": [
    {
      "cell_type": "markdown",
      "metadata": {
        "id": "yQovQ4EsqNat"
      },
      "source": [
        "# Setting Up"
      ]
    },
    {
      "cell_type": "markdown",
      "metadata": {
        "id": "0jVZKMulqT50"
      },
      "source": [
        "## Install Dependencies"
      ]
    },
    {
      "cell_type": "code",
      "metadata": {
        "id": "330fd0b6qR1l"
      },
      "source": [
        "!pip install -U tensorflow\n",
        "!pip install -U numpy\n",
        "!pip install -U Pillow\n",
        "!pil install -U opencv-python"
      ],
      "execution_count": null,
      "outputs": []
    },
    {
      "cell_type": "markdown",
      "metadata": {
        "id": "TlavNNZmqyvp"
      },
      "source": [
        "## Imports"
      ]
    },
    {
      "cell_type": "code",
      "metadata": {
        "id": "FfcjqlUPqBxv"
      },
      "source": [
        "import os\n",
        "import time\n",
        "import glob\n",
        "import argparse\n",
        "import numpy as np\n",
        "import tensorflow as tf\n",
        "import cv2\n",
        "from dataturehub.hub import HubModel\n",
        "from dataturehub.visualize import Visualize\n",
        "from PIL import Image\n",
        "\n",
        "## Comment out next line to use GPU\n",
        "os.environ[\"CUDA_VISIBLE_DEVICES\"] = \"-1\"\n",
        "## Comment out to set verbose to true\n",
        "os.environ[\"TF_CPP_MIN_LOG_LEVEL\"] = \"3\""
      ],
      "execution_count": null,
      "outputs": []
    },
    {
      "cell_type": "markdown",
      "metadata": {
        "id": "FGuk3MQ4qL8j"
      },
      "source": [
        "# Prediction Preparation"
      ]
    },
    {
      "cell_type": "markdown",
      "metadata": {
        "id": "EfwDfHDkrJvw"
      },
      "source": [
        "## Set all necessary variables"
      ]
    },
    {
      "cell_type": "code",
      "metadata": {
        "id": "zdNG97mFrND3"
      },
      "source": [
        "input_folder = \"./input/\" # Path to folder that contains input images\n",
        "output_folder = \"./output/\" # Path to folder to store predicted images\n",
        "threshold = 0.7 # Prediction confidence threshold\n",
        "\n",
        "project_secret = \"<YOUR_PROJECT_SECRET_KEY>\"\n",
        "model_key = \"<YOUR_MODEL_KEY>\""
      ],
      "execution_count": null,
      "outputs": []
    },
    {
      "cell_type": "markdown",
      "metadata": {
        "id": "IkhwOb95wiBL"
      },
      "source": [
        "## Initialize Hub"
      ]
    },
    {
      "cell_type": "code",
      "metadata": {
        "id": "_UUmPDH-wkIp"
      },
      "source": [
        "hub_model = HubModel(\n",
        "    project_secret=project_secret,\n",
        "    model_key=model_key,\n",
        "  )"
      ],
      "execution_count": null,
      "outputs": []
    },
    {
      "cell_type": "markdown",
      "metadata": {
        "id": "WwBh6h-JrMh1"
      },
      "source": [
        "## Load the model and label map"
      ]
    },
    {
      "cell_type": "code",
      "metadata": {
        "id": "VGB65upiwekZ"
      },
      "source": [
        "trained_model = hub_model.load_tf_model()\n",
        "category_index = hub_model.load_label_map()"
      ],
      "execution_count": null,
      "outputs": []
    },
    {
      "cell_type": "markdown",
      "metadata": {
        "id": "cfYkO_Tzw5bl"
      },
      "source": [
        "## Run Prediction on Each Image"
      ]
    },
    {
      "cell_type": "code",
      "metadata": {
        "id": "Un6eHW5Bw9AP"
      },
      "source": [
        "all_detections = []\n",
        "all_images = glob.glob(os.path.join(input_folder, \"*\"))\n",
        "for each_image in all_images:\n",
        "  print(\"Predicting for {}...\".format(each_image))\n",
        "  input_tensor = hub_model.load_image(each_image)\n",
        "  detections_output = trained_model(input_tensor)\n",
        "  all_detections.append(detections_output)"
      ],
      "execution_count": null,
      "outputs": []
    },
    {
      "cell_type": "markdown",
      "metadata": {
        "id": "uO9Yd-XPxgZB"
      },
      "source": [
        "## Save Image Visualizations"
      ]
    },
    {
      "cell_type": "code",
      "metadata": {
        "id": "zZ5SyubNxmqF"
      },
      "source": [
        "for each_image, each_detection in zip(all_images, all_detections):\n",
        "  visualized_image = Visualize(each_image, each_detection, category_index, threshold)\n",
        "  filename = os.path.basename(each_image)\n",
        "  image_predict = Image.fromarray(visualized_image)\n",
        "  image_predict.save(os.path.join(output_folder, filename))\n",
        "\n",
        "  print(\n",
        "    \"Saving predicted images to {}...\".format(\n",
        "      os.path.join(args.output, filename)\n",
        "    )\n",
        "  )"
      ],
      "execution_count": null,
      "outputs": []
    }
  ]
}