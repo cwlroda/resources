{
 "cells": [
  {
   "cell_type": "markdown",
   "metadata": {},
   "source": [
    "## Setting Up"
   ]
  },
  {
   "cell_type": "markdown",
   "metadata": {},
   "source": [
    "### Install dependencies"
   ]
  },
  {
   "cell_type": "code",
   "execution_count": 2,
   "metadata": {},
   "outputs": [
    {
     "name": "stdout",
     "output_type": "stream",
     "text": [
      "Defaulting to user installation because normal site-packages is not writeable\n",
      "Requirement already up-to-date: tensorflow==2.3.0 in /home/lmd/.local/lib/python3.7/site-packages (2.3.0)\n",
      "Requirement already satisfied, skipping upgrade: google-pasta>=0.1.8 in /home/lmd/.local/lib/python3.7/site-packages (from tensorflow==2.3.0) (0.2.0)\n",
      "Requirement already satisfied, skipping upgrade: astunparse==1.6.3 in /home/lmd/.local/lib/python3.7/site-packages (from tensorflow==2.3.0) (1.6.3)\n",
      "Requirement already satisfied, skipping upgrade: scipy==1.4.1 in /home/lmd/.local/lib/python3.7/site-packages (from tensorflow==2.3.0) (1.4.1)\n",
      "Requirement already satisfied, skipping upgrade: tensorboard<3,>=2.3.0 in /home/lmd/.local/lib/python3.7/site-packages (from tensorflow==2.3.0) (2.4.1)\n",
      "Requirement already satisfied, skipping upgrade: keras-preprocessing<1.2,>=1.1.1 in /home/lmd/.local/lib/python3.7/site-packages (from tensorflow==2.3.0) (1.1.2)\n",
      "Requirement already satisfied, skipping upgrade: tensorflow-estimator<2.4.0,>=2.3.0 in /home/lmd/.local/lib/python3.7/site-packages (from tensorflow==2.3.0) (2.3.0)\n",
      "Requirement already satisfied, skipping upgrade: termcolor>=1.1.0 in /home/lmd/.local/lib/python3.7/site-packages (from tensorflow==2.3.0) (1.1.0)\n",
      "Requirement already satisfied, skipping upgrade: six>=1.12.0 in /home/lmd/.local/lib/python3.7/site-packages (from tensorflow==2.3.0) (1.15.0)\n",
      "Requirement already satisfied, skipping upgrade: protobuf>=3.9.2 in /home/lmd/.local/lib/python3.7/site-packages (from tensorflow==2.3.0) (3.12.2)\n",
      "Requirement already satisfied, skipping upgrade: wrapt>=1.11.1 in /home/lmd/.local/lib/python3.7/site-packages (from tensorflow==2.3.0) (1.12.1)\n",
      "Requirement already satisfied, skipping upgrade: h5py<2.11.0,>=2.10.0 in /home/lmd/.local/lib/python3.7/site-packages (from tensorflow==2.3.0) (2.10.0)\n",
      "Requirement already satisfied, skipping upgrade: numpy<1.19.0,>=1.16.0 in /home/lmd/.local/lib/python3.7/site-packages (from tensorflow==2.3.0) (1.18.5)\n",
      "Requirement already satisfied, skipping upgrade: wheel>=0.26 in /home/lmd/.local/lib/python3.7/site-packages (from tensorflow==2.3.0) (0.34.2)\n",
      "Requirement already satisfied, skipping upgrade: grpcio>=1.8.6 in /home/lmd/.local/lib/python3.7/site-packages (from tensorflow==2.3.0) (1.30.0)\n",
      "Requirement already satisfied, skipping upgrade: absl-py>=0.7.0 in /home/lmd/.local/lib/python3.7/site-packages (from tensorflow==2.3.0) (0.9.0)\n",
      "Requirement already satisfied, skipping upgrade: gast==0.3.3 in /home/lmd/.local/lib/python3.7/site-packages (from tensorflow==2.3.0) (0.3.3)\n",
      "Requirement already satisfied, skipping upgrade: opt-einsum>=2.3.2 in /home/lmd/.local/lib/python3.7/site-packages (from tensorflow==2.3.0) (3.2.1)\n",
      "Requirement already satisfied, skipping upgrade: google-auth<2,>=1.6.3 in /home/lmd/.local/lib/python3.7/site-packages (from tensorboard<3,>=2.3.0->tensorflow==2.3.0) (1.19.2)\n",
      "Requirement already satisfied, skipping upgrade: setuptools>=41.0.0 in /home/lmd/.local/lib/python3.7/site-packages (from tensorboard<3,>=2.3.0->tensorflow==2.3.0) (49.2.0)\n",
      "Requirement already satisfied, skipping upgrade: requests<3,>=2.21.0 in /home/lmd/.local/lib/python3.7/site-packages (from tensorboard<3,>=2.3.0->tensorflow==2.3.0) (2.22.0)\n",
      "Requirement already satisfied, skipping upgrade: markdown>=2.6.8 in /home/lmd/.local/lib/python3.7/site-packages (from tensorboard<3,>=2.3.0->tensorflow==2.3.0) (3.2.2)\n",
      "Requirement already satisfied, skipping upgrade: google-auth-oauthlib<0.5,>=0.4.1 in /home/lmd/.local/lib/python3.7/site-packages (from tensorboard<3,>=2.3.0->tensorflow==2.3.0) (0.4.1)\n",
      "Requirement already satisfied, skipping upgrade: tensorboard-plugin-wit>=1.6.0 in /home/lmd/.local/lib/python3.7/site-packages (from tensorboard<3,>=2.3.0->tensorflow==2.3.0) (1.7.0)\n",
      "Requirement already satisfied, skipping upgrade: werkzeug>=0.11.15 in /home/lmd/.local/lib/python3.7/site-packages (from tensorboard<3,>=2.3.0->tensorflow==2.3.0) (1.0.1)\n",
      "Requirement already satisfied, skipping upgrade: cachetools<5.0,>=2.0.0 in /home/lmd/.local/lib/python3.7/site-packages (from google-auth<2,>=1.6.3->tensorboard<3,>=2.3.0->tensorflow==2.3.0) (4.0.0)\n",
      "Requirement already satisfied, skipping upgrade: pyasn1-modules>=0.2.1 in /home/lmd/.local/lib/python3.7/site-packages (from google-auth<2,>=1.6.3->tensorboard<3,>=2.3.0->tensorflow==2.3.0) (0.2.8)\n",
      "Requirement already satisfied, skipping upgrade: rsa<5,>=3.1.4; python_version >= \"3\" in /home/lmd/.local/lib/python3.7/site-packages (from google-auth<2,>=1.6.3->tensorboard<3,>=2.3.0->tensorflow==2.3.0) (4.0)\n",
      "Requirement already satisfied, skipping upgrade: certifi>=2017.4.17 in /home/lmd/.local/lib/python3.7/site-packages (from requests<3,>=2.21.0->tensorboard<3,>=2.3.0->tensorflow==2.3.0) (2019.11.28)\n",
      "Requirement already satisfied, skipping upgrade: urllib3!=1.25.0,!=1.25.1,<1.26,>=1.21.1 in /home/lmd/.local/lib/python3.7/site-packages (from requests<3,>=2.21.0->tensorboard<3,>=2.3.0->tensorflow==2.3.0) (1.25.7)\n",
      "Requirement already satisfied, skipping upgrade: chardet<3.1.0,>=3.0.2 in /home/lmd/.local/lib/python3.7/site-packages (from requests<3,>=2.21.0->tensorboard<3,>=2.3.0->tensorflow==2.3.0) (3.0.4)\n",
      "Requirement already satisfied, skipping upgrade: idna<2.9,>=2.5 in /home/lmd/.local/lib/python3.7/site-packages (from requests<3,>=2.21.0->tensorboard<3,>=2.3.0->tensorflow==2.3.0) (2.8)\n",
      "Requirement already satisfied, skipping upgrade: importlib-metadata; python_version < \"3.8\" in /home/lmd/.local/lib/python3.7/site-packages (from markdown>=2.6.8->tensorboard<3,>=2.3.0->tensorflow==2.3.0) (1.6.1)\n",
      "Requirement already satisfied, skipping upgrade: requests-oauthlib>=0.7.0 in /home/lmd/.local/lib/python3.7/site-packages (from google-auth-oauthlib<0.5,>=0.4.1->tensorboard<3,>=2.3.0->tensorflow==2.3.0) (1.3.0)\n",
      "Requirement already satisfied, skipping upgrade: pyasn1<0.5.0,>=0.4.6 in /home/lmd/.local/lib/python3.7/site-packages (from pyasn1-modules>=0.2.1->google-auth<2,>=1.6.3->tensorboard<3,>=2.3.0->tensorflow==2.3.0) (0.4.8)\n",
      "Requirement already satisfied, skipping upgrade: zipp>=0.5 in /home/lmd/.local/lib/python3.7/site-packages (from importlib-metadata; python_version < \"3.8\"->markdown>=2.6.8->tensorboard<3,>=2.3.0->tensorflow==2.3.0) (3.1.0)\n",
      "Requirement already satisfied, skipping upgrade: oauthlib>=3.0.0 in /home/lmd/.local/lib/python3.7/site-packages (from requests-oauthlib>=0.7.0->google-auth-oauthlib<0.5,>=0.4.1->tensorboard<3,>=2.3.0->tensorflow==2.3.0) (3.1.0)\n",
      "\u001b[33mWARNING: You are using pip version 20.2.4; however, version 21.0.1 is available.\n",
      "You should consider upgrading via the '/usr/bin/python3 -m pip install --upgrade pip' command.\u001b[0m\n"
     ]
    }
   ],
   "source": [
    "!pip install -U tensorflow==2.3.0\n",
    "!pip install -U numpy==1.18.5\n",
    "!pip install -U Pillow==7.2.0\n",
    "!pip install -U opencv-python\n",
    "!pip install -U tf-slim"
   ]
  },
  {
   "cell_type": "markdown",
   "metadata": {},
   "source": [
    "### Imports"
   ]
  },
  {
   "cell_type": "code",
   "execution_count": 1,
   "metadata": {},
   "outputs": [],
   "source": [
    "import os\n",
    "import time\n",
    "import glob\n",
    "import argparse\n",
    "import numpy as np\n",
    "import tensorflow as tf\n",
    "import cv2\n",
    "\n",
    "from PIL import Image\n",
    "\n",
    "os.environ[\"CUDA_VISIBLE_DEVICES\"] = \"-1\" # Comment out to use GPU for prediction"
   ]
  },
  {
   "cell_type": "markdown",
   "metadata": {},
   "source": [
    "## Prediction Preparation"
   ]
  },
  {
   "cell_type": "markdown",
   "metadata": {},
   "source": [
    "### Set all necessary variables"
   ]
  },
  {
   "cell_type": "code",
   "execution_count": 7,
   "metadata": {},
   "outputs": [],
   "source": [
    "input_folder = \"./input/\" # Path to folder that contains input images\n",
    "output_folder = \"./output/\" # Path to folder to store predicted images\n",
    "size = \"320x320\" # Size of image to load into model\n",
    "threshold = 0.7 # Prediction confidence threshold\n",
    "model = \"./saved_model\" # Path to exported tensorflow pb model\n",
    "label = \"./label_map.pbtxt\" # Path to label map"
   ]
  },
  {
   "cell_type": "markdown",
   "metadata": {},
   "source": [
    "### Label map loader"
   ]
  },
  {
   "cell_type": "code",
   "execution_count": 8,
   "metadata": {},
   "outputs": [],
   "source": [
    "def load_label_map(label_map_path):\n",
    "    label_map = {}\n",
    "\n",
    "    with open(label_map_path, \"r\") as label_file:\n",
    "        for line in label_file:\n",
    "            if \"id\" in line:\n",
    "                label_index = int(line.split(\":\")[-1])\n",
    "                label_name = next(label_file).split(\":\")[-1].strip().strip(\"'\")\n",
    "                label_map[label_index] = {\"id\": label_index, \"name\": label_name}\n",
    "\n",
    "    return label_map"
   ]
  },
  {
   "cell_type": "markdown",
   "metadata": {},
   "source": [
    "### Image to numpy array "
   ]
  },
  {
   "cell_type": "code",
   "execution_count": 9,
   "metadata": {},
   "outputs": [],
   "source": [
    "def load_image_into_numpy_array(path, height, width):\n",
    "    image = Image.open(path).convert(\"RGB\")\n",
    "    image_shape = np.asarray(image).shape\n",
    "    image_resized = image.resize((height, width))\n",
    "    \n",
    "    return np.array(image_resized), (image_shape[0], image_shape[1])"
   ]
  },
  {
   "cell_type": "markdown",
   "metadata": {},
   "source": [
    "## Execute Prediction "
   ]
  },
  {
   "cell_type": "markdown",
   "metadata": {},
   "source": [
    "### Load label_map, color_map and model "
   ]
  },
  {
   "cell_type": "code",
   "execution_count": 10,
   "metadata": {},
   "outputs": [
    {
     "name": "stdout",
     "output_type": "stream",
     "text": [
      "Model loaded, took 25.3473539352417 seconds...\n"
     ]
    }
   ],
   "source": [
    "category_index = load_label_map(label)\n",
    "\n",
    "color_map = {}\n",
    "for each_class in range(len(category_index)):\n",
    "    color_map[each_class] = [int(i) for i in np.random.choice(range(256), size=3)]\n",
    "\n",
    "start_time = time.time()\n",
    "trained_model = tf.saved_model.load(model)\n",
    "print(\"Model loaded, took {} seconds...\".format(time.time() - start_time))"
   ]
  },
  {
   "cell_type": "markdown",
   "metadata": {},
   "source": [
    "### Loop through images and obtain predictions"
   ]
  },
  {
   "cell_type": "code",
   "execution_count": 11,
   "metadata": {},
   "outputs": [
    {
     "name": "stdout",
     "output_type": "stream",
     "text": [
      "Predicting for ./input/362.jpg...\n",
      "Saving predicted images to ./output/362.jpg...\n",
      "Predicting for ./input/363.jpg...\n",
      "Saving predicted images to ./output/363.jpg...\n",
      "Predicting for ./input/361.jpg...\n",
      "Saving predicted images to ./output/361.jpg...\n"
     ]
    }
   ],
   "source": [
    "## Run prediction on each image\n",
    "for each_image in glob.glob(os.path.join(input_folder, \"*\")):\n",
    "    print(\"Predicting for {}...\".format(each_image))\n",
    "\n",
    "    height, width = size.split(\"x\")\n",
    "\n",
    "    ## Returned original_shape is in the format of width, height\n",
    "    image_resized, origi_shape = load_image_into_numpy_array(\n",
    "        each_image, int(height), int(width)\n",
    "    )\n",
    "\n",
    "    ## The input needs to be a tensor, convert it using `tf.convert_to_tensor`.\n",
    "    input_tensor = tf.convert_to_tensor(image_resized)\n",
    "\n",
    "    ## The model expects a batch of images, so add an axis with `tf.newaxis`.\n",
    "    input_tensor = input_tensor[tf.newaxis, ...]\n",
    "\n",
    "    ## Feed image into model\n",
    "    detections_output = trained_model(input_tensor)\n",
    "\n",
    "    num_detections = int(detections_output.pop(\"num_detections\"))\n",
    "    detections = {\n",
    "        key: value[0, :num_detections].numpy()\n",
    "        for key, value in detections_output.items()\n",
    "    }\n",
    "    detections[\"num_detections\"] = num_detections\n",
    "\n",
    "    ## Filter out predictions below threshold\n",
    "    indexes = np.where(detections[\"detection_scores\"] > float(threshold))\n",
    "\n",
    "    ## Extract predictions\n",
    "    bboxes = detections[\"detection_boxes\"][indexes]\n",
    "    classes = detections[\"detection_classes\"][indexes].astype(np.int64)\n",
    "    scores = detections[\"detection_scores\"][indexes]\n",
    "\n",
    "    ## Draw Predictions\n",
    "    image_origi = Image.fromarray(image_resized).resize(\n",
    "        (origi_shape[1], origi_shape[0])\n",
    "    )\n",
    "    image_origi = np.array(image_origi)\n",
    "\n",
    "    if len(bboxes) != 0:\n",
    "        for idx, each_bbox in enumerate(bboxes):\n",
    "            color = color_map.get(classes[idx] - 1)\n",
    "\n",
    "            ## Draw bounding box\n",
    "            cv2.rectangle(\n",
    "                image_origi,\n",
    "                (\n",
    "                    int(each_bbox[1] * origi_shape[1]),\n",
    "                    int(each_bbox[0] * origi_shape[0]),\n",
    "                ),\n",
    "                (\n",
    "                    int(each_bbox[3] * origi_shape[1]),\n",
    "                    int(each_bbox[2] * origi_shape[0]),\n",
    "                ),\n",
    "                color,\n",
    "                2,\n",
    "            )\n",
    "\n",
    "            ## Draw label background\n",
    "            cv2.rectangle(\n",
    "                image_origi,\n",
    "                (\n",
    "                    int(each_bbox[1] * origi_shape[1]),\n",
    "                    int(each_bbox[2] * origi_shape[0]),\n",
    "                ),\n",
    "                (\n",
    "                    int(each_bbox[3] * origi_shape[1]),\n",
    "                    int(each_bbox[2] * origi_shape[0] + 15),\n",
    "                ),\n",
    "                color,\n",
    "                -1,\n",
    "            )\n",
    "\n",
    "            ## Insert label class & score\n",
    "            cv2.putText(\n",
    "                image_origi,\n",
    "                \"Class: {}, Score: {}\".format(\n",
    "                    str(category_index[classes[idx]][\"name\"]),\n",
    "                    str(round(scores[idx], 2)),\n",
    "                ),\n",
    "                (\n",
    "                    int(each_bbox[1] * origi_shape[1]),\n",
    "                    int(each_bbox[2] * origi_shape[0] + 10),\n",
    "                ),\n",
    "                cv2.FONT_HERSHEY_SIMPLEX,\n",
    "                0.3,\n",
    "                (0, 0, 0),\n",
    "                1,\n",
    "                cv2.LINE_AA,\n",
    "            )\n",
    "\n",
    "    ## Save predicted image\n",
    "    filename = os.path.basename(each_image)\n",
    "    image_predict = Image.fromarray(image_origi)\n",
    "    image_predict.save(os.path.join(output_folder, filename))\n",
    "\n",
    "    print(\n",
    "        \"Saving predicted images to {}...\".format(\n",
    "            os.path.join(output_folder, filename)\n",
    "        )\n",
    "    )"
   ]
  },
  {
   "cell_type": "code",
   "execution_count": null,
   "metadata": {},
   "outputs": [],
   "source": []
  }
 ],
 "metadata": {
  "kernelspec": {
   "display_name": "Python 3",
   "language": "python",
   "name": "python3"
  },
  "language_info": {
   "codemirror_mode": {
    "name": "ipython",
    "version": 3
   },
   "file_extension": ".py",
   "mimetype": "text/x-python",
   "name": "python",
   "nbconvert_exporter": "python",
   "pygments_lexer": "ipython3",
   "version": "3.7.5"
  }
 },
 "nbformat": 4,
 "nbformat_minor": 2
}
